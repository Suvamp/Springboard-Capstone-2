{
 "cells": [
  {
   "cell_type": "markdown",
   "metadata": {},
   "source": [
    "# Import Libraries"
   ]
  },
  {
   "cell_type": "code",
   "execution_count": 64,
   "metadata": {},
   "outputs": [],
   "source": [
    "import pandas as pd\n",
    "import numpy as np"
   ]
  },
  {
   "cell_type": "markdown",
   "metadata": {},
   "source": [
    "# Load Data"
   ]
  },
  {
   "cell_type": "code",
   "execution_count": 65,
   "metadata": {},
   "outputs": [
    {
     "data": {
      "text/html": [
       "<div>\n",
       "<style scoped>\n",
       "    .dataframe tbody tr th:only-of-type {\n",
       "        vertical-align: middle;\n",
       "    }\n",
       "\n",
       "    .dataframe tbody tr th {\n",
       "        vertical-align: top;\n",
       "    }\n",
       "\n",
       "    .dataframe thead th {\n",
       "        text-align: right;\n",
       "    }\n",
       "</style>\n",
       "<table border=\"1\" class=\"dataframe\">\n",
       "  <thead>\n",
       "    <tr style=\"text-align: right;\">\n",
       "      <th></th>\n",
       "      <th>Unnamed: 0</th>\n",
       "      <th>PctLess9thGrade</th>\n",
       "      <th>PctNotHSGrad</th>\n",
       "      <th>PctBSorMore</th>\n",
       "      <th>PctUnemployed</th>\n",
       "      <th>PctEmploy</th>\n",
       "      <th>PctHousOccup</th>\n",
       "      <th>PctHousOwnOcc</th>\n",
       "      <th>PctVacantBoarded</th>\n",
       "      <th>PctVacMore6Mos</th>\n",
       "      <th>racepctblack</th>\n",
       "      <th>racePctWhite</th>\n",
       "      <th>racePctAsian</th>\n",
       "      <th>racePctHisp</th>\n",
       "      <th>nonViolPerPop</th>\n",
       "      <th>ViolentCrimesPerPop</th>\n",
       "      <th>State</th>\n",
       "    </tr>\n",
       "  </thead>\n",
       "  <tbody>\n",
       "    <tr>\n",
       "      <th>0</th>\n",
       "      <td>0</td>\n",
       "      <td>5.81</td>\n",
       "      <td>9.90</td>\n",
       "      <td>48.18</td>\n",
       "      <td>2.70</td>\n",
       "      <td>64.55</td>\n",
       "      <td>98.37</td>\n",
       "      <td>91.01</td>\n",
       "      <td>3.12</td>\n",
       "      <td>37.50</td>\n",
       "      <td>1.37</td>\n",
       "      <td>91.78</td>\n",
       "      <td>6.50</td>\n",
       "      <td>1.88</td>\n",
       "      <td>1394.59</td>\n",
       "      <td>41.02</td>\n",
       "      <td>New Jersey</td>\n",
       "    </tr>\n",
       "    <tr>\n",
       "      <th>1</th>\n",
       "      <td>1</td>\n",
       "      <td>5.59</td>\n",
       "      <td>20.23</td>\n",
       "      <td>16.51</td>\n",
       "      <td>5.55</td>\n",
       "      <td>60.08</td>\n",
       "      <td>86.55</td>\n",
       "      <td>82.54</td>\n",
       "      <td>0.72</td>\n",
       "      <td>60.24</td>\n",
       "      <td>0.63</td>\n",
       "      <td>97.81</td>\n",
       "      <td>0.83</td>\n",
       "      <td>2.58</td>\n",
       "      <td>2543.13</td>\n",
       "      <td>131.47</td>\n",
       "      <td>New Jersey</td>\n",
       "    </tr>\n",
       "    <tr>\n",
       "      <th>2</th>\n",
       "      <td>2</td>\n",
       "      <td>4.57</td>\n",
       "      <td>12.02</td>\n",
       "      <td>41.42</td>\n",
       "      <td>3.75</td>\n",
       "      <td>67.53</td>\n",
       "      <td>97.46</td>\n",
       "      <td>81.45</td>\n",
       "      <td>2.53</td>\n",
       "      <td>46.46</td>\n",
       "      <td>11.10</td>\n",
       "      <td>83.79</td>\n",
       "      <td>4.57</td>\n",
       "      <td>2.83</td>\n",
       "      <td>2160.10</td>\n",
       "      <td>115.14</td>\n",
       "      <td>New Jersey</td>\n",
       "    </tr>\n",
       "    <tr>\n",
       "      <th>3</th>\n",
       "      <td>3</td>\n",
       "      <td>5.04</td>\n",
       "      <td>18.12</td>\n",
       "      <td>20.42</td>\n",
       "      <td>4.10</td>\n",
       "      <td>69.92</td>\n",
       "      <td>89.49</td>\n",
       "      <td>68.94</td>\n",
       "      <td>0.86</td>\n",
       "      <td>38.30</td>\n",
       "      <td>7.36</td>\n",
       "      <td>88.58</td>\n",
       "      <td>2.67</td>\n",
       "      <td>3.69</td>\n",
       "      <td>3668.03</td>\n",
       "      <td>251.24</td>\n",
       "      <td>New Jersey</td>\n",
       "    </tr>\n",
       "    <tr>\n",
       "      <th>4</th>\n",
       "      <td>4</td>\n",
       "      <td>4.91</td>\n",
       "      <td>9.49</td>\n",
       "      <td>48.60</td>\n",
       "      <td>2.71</td>\n",
       "      <td>69.32</td>\n",
       "      <td>98.06</td>\n",
       "      <td>75.52</td>\n",
       "      <td>1.19</td>\n",
       "      <td>38.10</td>\n",
       "      <td>0.54</td>\n",
       "      <td>94.18</td>\n",
       "      <td>4.90</td>\n",
       "      <td>2.70</td>\n",
       "      <td>1032.55</td>\n",
       "      <td>49.56</td>\n",
       "      <td>New Jersey</td>\n",
       "    </tr>\n",
       "  </tbody>\n",
       "</table>\n",
       "</div>"
      ],
      "text/plain": [
       "   Unnamed: 0  PctLess9thGrade  PctNotHSGrad  PctBSorMore  PctUnemployed  \\\n",
       "0           0             5.81          9.90        48.18           2.70   \n",
       "1           1             5.59         20.23        16.51           5.55   \n",
       "2           2             4.57         12.02        41.42           3.75   \n",
       "3           3             5.04         18.12        20.42           4.10   \n",
       "4           4             4.91          9.49        48.60           2.71   \n",
       "\n",
       "   PctEmploy  PctHousOccup  PctHousOwnOcc  PctVacantBoarded  PctVacMore6Mos  \\\n",
       "0      64.55         98.37          91.01              3.12           37.50   \n",
       "1      60.08         86.55          82.54              0.72           60.24   \n",
       "2      67.53         97.46          81.45              2.53           46.46   \n",
       "3      69.92         89.49          68.94              0.86           38.30   \n",
       "4      69.32         98.06          75.52              1.19           38.10   \n",
       "\n",
       "   racepctblack  racePctWhite  racePctAsian  racePctHisp  nonViolPerPop  \\\n",
       "0          1.37         91.78          6.50         1.88        1394.59   \n",
       "1          0.63         97.81          0.83         2.58        2543.13   \n",
       "2         11.10         83.79          4.57         2.83        2160.10   \n",
       "3          7.36         88.58          2.67         3.69        3668.03   \n",
       "4          0.54         94.18          4.90         2.70        1032.55   \n",
       "\n",
       "   ViolentCrimesPerPop       State  \n",
       "0                41.02  New Jersey  \n",
       "1               131.47  New Jersey  \n",
       "2               115.14  New Jersey  \n",
       "3               251.24  New Jersey  \n",
       "4                49.56  New Jersey  "
      ]
     },
     "execution_count": 65,
     "metadata": {},
     "output_type": "execute_result"
    }
   ],
   "source": [
    "df = pd.read_csv('crime_cleaned.csv')\n",
    "df.head()"
   ]
  },
  {
   "cell_type": "code",
   "execution_count": 66,
   "metadata": {},
   "outputs": [],
   "source": [
    "df = df.drop(columns = ['Unnamed: 0'])"
   ]
  },
  {
   "cell_type": "code",
   "execution_count": 67,
   "metadata": {},
   "outputs": [
    {
     "data": {
      "text/plain": [
       "Index(['PctLess9thGrade', 'PctNotHSGrad', 'PctBSorMore', 'PctUnemployed',\n",
       "       'PctEmploy', 'PctHousOccup', 'PctHousOwnOcc', 'PctVacantBoarded',\n",
       "       'PctVacMore6Mos', 'racepctblack', 'racePctWhite', 'racePctAsian',\n",
       "       'racePctHisp', 'nonViolPerPop', 'ViolentCrimesPerPop', 'State'],\n",
       "      dtype='object')"
      ]
     },
     "execution_count": 67,
     "metadata": {},
     "output_type": "execute_result"
    }
   ],
   "source": [
    "df.columns"
   ]
  },
  {
   "cell_type": "code",
   "execution_count": 68,
   "metadata": {},
   "outputs": [
    {
     "data": {
      "text/plain": [
       "PctLess9thGrade        float64\n",
       "PctNotHSGrad           float64\n",
       "PctBSorMore            float64\n",
       "PctUnemployed          float64\n",
       "PctEmploy              float64\n",
       "PctHousOccup           float64\n",
       "PctHousOwnOcc          float64\n",
       "PctVacantBoarded       float64\n",
       "PctVacMore6Mos         float64\n",
       "racepctblack           float64\n",
       "racePctWhite           float64\n",
       "racePctAsian           float64\n",
       "racePctHisp            float64\n",
       "nonViolPerPop          float64\n",
       "ViolentCrimesPerPop    float64\n",
       "State                   object\n",
       "dtype: object"
      ]
     },
     "execution_count": 68,
     "metadata": {},
     "output_type": "execute_result"
    }
   ],
   "source": [
    "df.dtypes"
   ]
  },
  {
   "cell_type": "code",
   "execution_count": 69,
   "metadata": {},
   "outputs": [
    {
     "data": {
      "text/plain": [
       "(1902, 16)"
      ]
     },
     "execution_count": 69,
     "metadata": {},
     "output_type": "execute_result"
    }
   ],
   "source": [
    "df.shape"
   ]
  },
  {
   "cell_type": "code",
   "execution_count": 70,
   "metadata": {},
   "outputs": [
    {
     "data": {
      "text/html": [
       "<div>\n",
       "<style scoped>\n",
       "    .dataframe tbody tr th:only-of-type {\n",
       "        vertical-align: middle;\n",
       "    }\n",
       "\n",
       "    .dataframe tbody tr th {\n",
       "        vertical-align: top;\n",
       "    }\n",
       "\n",
       "    .dataframe thead th {\n",
       "        text-align: right;\n",
       "    }\n",
       "</style>\n",
       "<table border=\"1\" class=\"dataframe\">\n",
       "  <thead>\n",
       "    <tr style=\"text-align: right;\">\n",
       "      <th></th>\n",
       "      <th>State</th>\n",
       "      <th>ViolentCrimesPerPop</th>\n",
       "      <th>nonViolPerPop</th>\n",
       "    </tr>\n",
       "  </thead>\n",
       "  <tbody>\n",
       "    <tr>\n",
       "      <th>0</th>\n",
       "      <td>Alabama</td>\n",
       "      <td>1197.585625</td>\n",
       "      <td>6025.023750</td>\n",
       "    </tr>\n",
       "    <tr>\n",
       "      <th>1</th>\n",
       "      <td>Alaska</td>\n",
       "      <td>576.576667</td>\n",
       "      <td>4961.673333</td>\n",
       "    </tr>\n",
       "    <tr>\n",
       "      <th>2</th>\n",
       "      <td>Arizona</td>\n",
       "      <td>551.094500</td>\n",
       "      <td>6532.186000</td>\n",
       "    </tr>\n",
       "    <tr>\n",
       "      <th>3</th>\n",
       "      <td>Arkansas</td>\n",
       "      <td>718.550400</td>\n",
       "      <td>6509.575600</td>\n",
       "    </tr>\n",
       "    <tr>\n",
       "      <th>4</th>\n",
       "      <td>California</td>\n",
       "      <td>810.469388</td>\n",
       "      <td>5136.655683</td>\n",
       "    </tr>\n",
       "  </tbody>\n",
       "</table>\n",
       "</div>"
      ],
      "text/plain": [
       "        State  ViolentCrimesPerPop  nonViolPerPop\n",
       "0     Alabama          1197.585625    6025.023750\n",
       "1      Alaska           576.576667    4961.673333\n",
       "2     Arizona           551.094500    6532.186000\n",
       "3    Arkansas           718.550400    6509.575600\n",
       "4  California           810.469388    5136.655683"
      ]
     },
     "execution_count": 70,
     "metadata": {},
     "output_type": "execute_result"
    }
   ],
   "source": [
    "# group values by state and average the values of Violent Crime and NonViolent Crime by state\n",
    "crime_state = df.groupby('State').agg({'ViolentCrimesPerPop':'mean','nonViolPerPop':'mean'})[['ViolentCrimesPerPop','nonViolPerPop']].reset_index()\n",
    "crime_state.head()"
   ]
  },
  {
   "cell_type": "code",
   "execution_count": 71,
   "metadata": {},
   "outputs": [
    {
     "data": {
      "text/plain": [
       "array(['Alabama', 'Alaska', 'Arizona', 'Arkansas', 'California',\n",
       "       'Colorado', 'Connecticut', 'Delaware', 'District of Columbia',\n",
       "       'Florida', 'Georgia', 'Idaho', 'Indiana', 'Iowa', 'Kentucky',\n",
       "       'Louisiana', 'Maine', 'Maryland', 'Massachusetts', 'Minnesota',\n",
       "       'Mississippi', 'Missouri', 'Nevada', 'New Hampshire', 'New Jersey',\n",
       "       'New Mexico', 'New York', 'North Carolina', 'North Dakota', 'Ohio',\n",
       "       'Oklahoma', 'Oregon', 'Pennsylvania', 'Rhode Island',\n",
       "       'South Carolina', 'South Dakota', 'Tennessee', 'Texas', 'Utah',\n",
       "       'Virginia', 'Washington', 'West Virginia', 'Wisconsin', 'Wyoming'],\n",
       "      dtype=object)"
      ]
     },
     "execution_count": 71,
     "metadata": {},
     "output_type": "execute_result"
    }
   ],
   "source": [
    "crime_state['State'].unique()"
   ]
  },
  {
   "cell_type": "code",
   "execution_count": 72,
   "metadata": {},
   "outputs": [
    {
     "data": {
      "text/plain": [
       "Minnesota               1\n",
       "West Virginia           1\n",
       "Kentucky                1\n",
       "Louisiana               1\n",
       "Wyoming                 1\n",
       "Mississippi             1\n",
       "New Jersey              1\n",
       "Pennsylvania            1\n",
       "Ohio                    1\n",
       "Oklahoma                1\n",
       "New Hampshire           1\n",
       "Maine                   1\n",
       "Arkansas                1\n",
       "Virginia                1\n",
       "Washington              1\n",
       "Rhode Island            1\n",
       "Texas                   1\n",
       "New Mexico              1\n",
       "New York                1\n",
       "Utah                    1\n",
       "Alaska                  1\n",
       "Florida                 1\n",
       "North Carolina          1\n",
       "South Dakota            1\n",
       "Missouri                1\n",
       "Arizona                 1\n",
       "Georgia                 1\n",
       "Indiana                 1\n",
       "Oregon                  1\n",
       "Idaho                   1\n",
       "North Dakota            1\n",
       "Massachusetts           1\n",
       "Alabama                 1\n",
       "California              1\n",
       "Connecticut             1\n",
       "Tennessee               1\n",
       "Nevada                  1\n",
       "Iowa                    1\n",
       "Maryland                1\n",
       "District of Columbia    1\n",
       "South Carolina          1\n",
       "Colorado                1\n",
       "Delaware                1\n",
       "Wisconsin               1\n",
       "Name: State, dtype: int64"
      ]
     },
     "execution_count": 72,
     "metadata": {},
     "output_type": "execute_result"
    }
   ],
   "source": [
    "crime_state['State'].value_counts()"
   ]
  },
  {
   "cell_type": "markdown",
   "metadata": {},
   "source": [
    "# Extract Latitudes and Longitudes of Data"
   ]
  },
  {
   "cell_type": "code",
   "execution_count": 73,
   "metadata": {},
   "outputs": [],
   "source": [
    "from geopy.geocoders import Nominatim\n",
    "\n",
    "geolocator = Nominatim(user_agent='app')"
   ]
  },
  {
   "cell_type": "code",
   "execution_count": 74,
   "metadata": {},
   "outputs": [],
   "source": [
    "lat = []\n",
    "lon = []\n",
    "\n",
    "for location in crime_state['State']:\n",
    "    location = geolocator.geocode(location)\n",
    "    if location is None:\n",
    "        lat.append(np.nan)\n",
    "        lon.append(np.nan)\n",
    "    else:\n",
    "        lat.append(location.latitude)\n",
    "        lon.append(location.longitude)"
   ]
  },
  {
   "cell_type": "code",
   "execution_count": 75,
   "metadata": {},
   "outputs": [
    {
     "name": "stdout",
     "output_type": "stream",
     "text": [
      "[33.2588817, 64.4459613, 34.395342, 35.2048883, 36.7014631, 38.7251776, 41.6500201, 38.6920451, 38.89379365, 27.7567667, 32.3293809, 43.6447642, 40.3270127, 41.9216734, 37.5726028, 30.8703881, 45.709097, 39.5162234, 42.3788774, 45.9896587, 32.9715645, 38.7604815, 39.5158825, 43.4849133, 40.0757384, 34.5708167, 40.7127281, 35.6729639, 47.6201461, 40.2253569, 34.9550817, 43.9792797, 40.9699889, 41.7962409, 33.6874388, 44.6471761, 35.7730076, 31.8160381, 39.4225192, 37.1232245, 38.893661249999994, 38.4758406, 44.4308975, 43.1700264] [-86.8295337, -149.680909, -111.7632755, -92.4479108, -118.7559974, -105.6077167, -72.7342163, -75.4013315, -76.98799757261312, -81.4639835, -83.1137366, -114.0154071, -86.1746933, -93.3122705, -85.1551411, -92.007126, -68.8590201, -76.9382069, -72.032366, -94.6113288, -89.7348497, -92.5617875, -116.8537227, -71.6553992, -74.4041622, -105.993007, -74.0060152, -79.0392919, -100.540737, -82.6881395, -97.2684063, -120.737257, -77.7278831, -71.5992372, -80.4363743, -100.348761, -86.2820081, -99.5120986, -111.7143584, -78.4927721, -76.98788325388196, -80.8408415, -89.6884637, -107.5685348]\n"
     ]
    }
   ],
   "source": [
    "# check if the for loop worked\n",
    "print(lat, lon)"
   ]
  },
  {
   "cell_type": "code",
   "execution_count": 76,
   "metadata": {},
   "outputs": [
    {
     "data": {
      "text/html": [
       "<div>\n",
       "<style scoped>\n",
       "    .dataframe tbody tr th:only-of-type {\n",
       "        vertical-align: middle;\n",
       "    }\n",
       "\n",
       "    .dataframe tbody tr th {\n",
       "        vertical-align: top;\n",
       "    }\n",
       "\n",
       "    .dataframe thead th {\n",
       "        text-align: right;\n",
       "    }\n",
       "</style>\n",
       "<table border=\"1\" class=\"dataframe\">\n",
       "  <thead>\n",
       "    <tr style=\"text-align: right;\">\n",
       "      <th></th>\n",
       "      <th>State</th>\n",
       "      <th>ViolentCrimesPerPop</th>\n",
       "      <th>nonViolPerPop</th>\n",
       "      <th>lat</th>\n",
       "      <th>lon</th>\n",
       "    </tr>\n",
       "  </thead>\n",
       "  <tbody>\n",
       "    <tr>\n",
       "      <th>0</th>\n",
       "      <td>Alabama</td>\n",
       "      <td>1197.585625</td>\n",
       "      <td>6025.023750</td>\n",
       "      <td>33.258882</td>\n",
       "      <td>-86.829534</td>\n",
       "    </tr>\n",
       "    <tr>\n",
       "      <th>1</th>\n",
       "      <td>Alaska</td>\n",
       "      <td>576.576667</td>\n",
       "      <td>4961.673333</td>\n",
       "      <td>64.445961</td>\n",
       "      <td>-149.680909</td>\n",
       "    </tr>\n",
       "    <tr>\n",
       "      <th>2</th>\n",
       "      <td>Arizona</td>\n",
       "      <td>551.094500</td>\n",
       "      <td>6532.186000</td>\n",
       "      <td>34.395342</td>\n",
       "      <td>-111.763276</td>\n",
       "    </tr>\n",
       "    <tr>\n",
       "      <th>3</th>\n",
       "      <td>Arkansas</td>\n",
       "      <td>718.550400</td>\n",
       "      <td>6509.575600</td>\n",
       "      <td>35.204888</td>\n",
       "      <td>-92.447911</td>\n",
       "    </tr>\n",
       "    <tr>\n",
       "      <th>4</th>\n",
       "      <td>California</td>\n",
       "      <td>810.469388</td>\n",
       "      <td>5136.655683</td>\n",
       "      <td>36.701463</td>\n",
       "      <td>-118.755997</td>\n",
       "    </tr>\n",
       "  </tbody>\n",
       "</table>\n",
       "</div>"
      ],
      "text/plain": [
       "        State  ViolentCrimesPerPop  nonViolPerPop        lat         lon\n",
       "0     Alabama          1197.585625    6025.023750  33.258882  -86.829534\n",
       "1      Alaska           576.576667    4961.673333  64.445961 -149.680909\n",
       "2     Arizona           551.094500    6532.186000  34.395342 -111.763276\n",
       "3    Arkansas           718.550400    6509.575600  35.204888  -92.447911\n",
       "4  California           810.469388    5136.655683  36.701463 -118.755997"
      ]
     },
     "execution_count": 76,
     "metadata": {},
     "output_type": "execute_result"
    }
   ],
   "source": [
    "# Create new columns for Longitude and Latitude in locations dataframe\n",
    "crime_state['lat'] = lat\n",
    "crime_state['lon'] = lon\n",
    "\n",
    "crime_state.head()"
   ]
  },
  {
   "cell_type": "code",
   "execution_count": 77,
   "metadata": {},
   "outputs": [],
   "source": [
    "# Create a new csv\n",
    "crime_state.to_csv('Crime_unique_locations.csv', index=False)"
   ]
  },
  {
   "cell_type": "markdown",
   "metadata": {},
   "source": [
    "# Geospatial Visualization"
   ]
  },
  {
   "cell_type": "markdown",
   "metadata": {},
   "source": [
    "### Heatmap of Violent Crimes"
   ]
  },
  {
   "cell_type": "code",
   "execution_count": 86,
   "metadata": {},
   "outputs": [],
   "source": [
    "import folium\n",
    "\n",
    "def generatebasemap(default_location=[37,-95], default_zoom_start=4):\n",
    "    basemap = folium.Map(location=default_location, zoom_start=default_zoom_start, tiles='Stamen Terrain')\n",
    "    return basemap"
   ]
  },
  {
   "cell_type": "code",
   "execution_count": 87,
   "metadata": {},
   "outputs": [
    {
     "data": {
      "text/html": [
       "<div style=\"width:100%;\"><div style=\"position:relative;width:100%;height:0;padding-bottom:60%;\"><span style=\"color:#565656\">Make this Notebook Trusted to load map: File -> Trust Notebook</span><iframe src=\"about:blank\" style=\"position:absolute;width:100%;height:100%;left:0;top:0;border:none !important;\" data-html=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 onload=\"this.contentDocument.open();this.contentDocument.write(atob(this.getAttribute('data-html')));this.contentDocument.close();\" allowfullscreen webkitallowfullscreen mozallowfullscreen></iframe></div></div>"
      ],
      "text/plain": [
       "<folium.folium.Map at 0x1ea11f11af0>"
      ]
     },
     "execution_count": 87,
     "metadata": {},
     "output_type": "execute_result"
    }
   ],
   "source": [
    "# Call function\n",
    "basemap = generatebasemap()\n",
    "basemap"
   ]
  },
  {
   "cell_type": "code",
   "execution_count": 88,
   "metadata": {},
   "outputs": [
    {
     "data": {
      "text/html": [
       "<div style=\"width:100%;\"><div style=\"position:relative;width:100%;height:0;padding-bottom:60%;\"><span style=\"color:#565656\">Make this Notebook Trusted to load map: File -> Trust Notebook</span><iframe src=\"about:blank\" style=\"position:absolute;width:100%;height:100%;left:0;top:0;border:none !important;\" data-html=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 onload=\"this.contentDocument.open();this.contentDocument.write(atob(this.getAttribute('data-html')));this.contentDocument.close();\" allowfullscreen webkitallowfullscreen mozallowfullscreen></iframe></div></div>"
      ],
      "text/plain": [
       "<folium.folium.Map at 0x1ea11f11af0>"
      ]
     },
     "execution_count": 88,
     "metadata": {},
     "output_type": "execute_result"
    }
   ],
   "source": [
    "# Plot heatmap for ViolentCrimesPerPop\n",
    "from folium.plugins import HeatMap\n",
    "\n",
    "HeatMap(crime_state[['lat','lon','ViolentCrimesPerPop']], zoom=20).add_to(basemap)\n",
    "basemap"
   ]
  },
  {
   "cell_type": "code",
   "execution_count": 85,
   "metadata": {},
   "outputs": [
    {
     "data": {
      "text/html": [
       "<div style=\"width:100%;\"><div style=\"position:relative;width:100%;height:0;padding-bottom:60%;\"><span style=\"color:#565656\">Make this Notebook Trusted to load map: File -> Trust Notebook</span><iframe src=\"about:blank\" style=\"position:absolute;width:100%;height:100%;left:0;top:0;border:none !important;\" data-html=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 onload=\"this.contentDocument.open();this.contentDocument.write(atob(this.getAttribute('data-html')));this.contentDocument.close();\" allowfullscreen webkitallowfullscreen mozallowfullscreen></iframe></div></div>"
      ],
      "text/plain": [
       "<folium.folium.Map at 0x1ea10eff6d0>"
      ]
     },
     "execution_count": 85,
     "metadata": {},
     "output_type": "execute_result"
    }
   ],
   "source": [
    "# Plot heatmap for nonViolPerPop\n",
    "from folium.plugins import HeatMap\n",
    "\n",
    "HeatMap(crime_state[['lat','lon','nonViolPerPop']], zoom=20).add_to(basemap)\n",
    "basemap"
   ]
  },
  {
   "cell_type": "code",
   "execution_count": null,
   "metadata": {},
   "outputs": [],
   "source": []
  }
 ],
 "metadata": {
  "kernelspec": {
   "display_name": "Python 3",
   "language": "python",
   "name": "python3"
  },
  "language_info": {
   "codemirror_mode": {
    "name": "ipython",
    "version": 3
   },
   "file_extension": ".py",
   "mimetype": "text/x-python",
   "name": "python",
   "nbconvert_exporter": "python",
   "pygments_lexer": "ipython3",
   "version": "3.8.3"
  }
 },
 "nbformat": 4,
 "nbformat_minor": 4
}
